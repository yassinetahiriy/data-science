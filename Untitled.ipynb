{
  "metadata": {
    "kernelspec": {
      "name": "python",
      "display_name": "Python (Pyodide)",
      "language": "python"
    },
    "language_info": {
      "codemirror_mode": {
        "name": "python",
        "version": 3
      },
      "file_extension": ".py",
      "mimetype": "text/x-python",
      "name": "python",
      "nbconvert_exporter": "python",
      "pygments_lexer": "ipython3",
      "version": "3.8"
    }
  },
  "nbformat_minor": 5,
  "nbformat": 4,
  "cells": [
    {
      "id": "3f9eaa1b-cf5d-476e-aeea-97d4436196da",
      "cell_type": "markdown",
      "source": "# Notebook",
      "metadata": {}
    },
    {
      "id": "735baf6e-93ce-4436-8bf4-cc04dfa247d7",
      "cell_type": "markdown",
      "source": "## Introduction",
      "metadata": {}
    },
    {
      "id": "5eed120c-3fc7-4e4b-bd6a-117479ec2f7c",
      "cell_type": "markdown",
      "source": "### Lit of tools:\n- Python  \n- R  \n- Julia  \n- SQL  \n- Scala  \n- Java  \n- MATLAB  \n- C/C++\n",
      "metadata": {}
    },
    {
      "id": "840d40ef-dad0-45f3-b34b-7128e8fe7bac",
      "cell_type": "markdown",
      "source": "### Lit of libraries:\n- Pandas\n- sckit leran\n- Matplotlib\n- Seaborn",
      "metadata": {}
    },
    {
      "id": "c4610d9f-4bdc-463f-8cd0-a89f7bd14909",
      "cell_type": "markdown",
      "source": "## Data Science Tools\n\n| Tool            | Category               | Description |\n|----------------|-----------------------|-------------|\n| Jupyter Notebook | Interactive Computing | Web-based environment for coding and visualization |\n| TensorFlow      | Machine Learning       | Open-source library for deep learning models |\n| Pandas         | Data Manipulation      | Library for data analysis and manipulation in Python |\n| Scikit-learn   | Machine Learning       | Library for classical machine learning algorithms |\n| Tableau        | Data Visualization     | Business intelligence and visualization tool |\n| Apache Spark   | Big Data Processing    | Framework for large-scale data processing |\n",
      "metadata": {}
    },
    {
      "id": "56aa8204-8c3f-41b6-96e1-835d646723bb",
      "cell_type": "markdown",
      "source": "## Artithmetix expressions\nDescrption of arthemtics esxpressions",
      "metadata": {}
    },
    {
      "id": "dcd46048-4db5-4a84-a7b5-c255d70d9da5",
      "cell_type": "code",
      "source": "",
      "metadata": {
        "trusted": true
      },
      "outputs": [],
      "execution_count": null
    }
  ]
}